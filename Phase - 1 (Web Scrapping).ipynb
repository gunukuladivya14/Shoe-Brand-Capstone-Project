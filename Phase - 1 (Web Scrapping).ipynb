{
 "cells": [
  {
   "cell_type": "code",
   "execution_count": 1,
   "id": "bf27e1a4",
   "metadata": {},
   "outputs": [],
   "source": [
    "#1. https://www.nike.com"
   ]
  },
  {
   "cell_type": "code",
   "execution_count": 2,
   "id": "c79f5447",
   "metadata": {},
   "outputs": [],
   "source": [
    "import selenium\n",
    "from selenium import webdriver\n",
    "import pandas as pd\n",
    "from selenium.webdriver.common.by import By\n",
    "from selenium.common.exceptions import NoSuchElementException,StaleElementReferenceException\n",
    "import time"
   ]
  },
  {
   "cell_type": "code",
   "execution_count": 3,
   "id": "b0635ff4",
   "metadata": {},
   "outputs": [],
   "source": [
    "import warnings\n",
    "warnings.filterwarnings('ignore')"
   ]
  },
  {
   "cell_type": "code",
   "execution_count": 4,
   "id": "37429033",
   "metadata": {},
   "outputs": [],
   "source": [
    "driver = webdriver.Chrome()"
   ]
  },
  {
   "cell_type": "code",
   "execution_count": 5,
   "id": "14d5c70a",
   "metadata": {},
   "outputs": [],
   "source": [
    "driver.get('https://www.nike.com')"
   ]
  },
  {
   "cell_type": "code",
   "execution_count": 6,
   "id": "a5d92577",
   "metadata": {},
   "outputs": [],
   "source": [
    "Womens = driver.find_element(By.XPATH,'/html/body/div[3]/div/div[3]/header/div[1]/div[2]/nav/div[2]/div/ul/li[3]/a')\n",
    "Womens.click()"
   ]
  },
  {
   "cell_type": "code",
   "execution_count": 7,
   "id": "da57c7bf",
   "metadata": {},
   "outputs": [],
   "source": [
    "Shoes = driver.find_element(By.XPATH,'/html/body/div[4]/div/div/div[2]/div[4]/div/div/div/section/ul/li[2]/figure/a')\n",
    "Shoes.click()"
   ]
  },
  {
   "cell_type": "code",
   "execution_count": 8,
   "id": "472ed54e",
   "metadata": {},
   "outputs": [],
   "source": [
    "Brand_Name =[]\n",
    "\n",
    "for i in driver.find_elements(By.XPATH,'//a[@class=\"product-card__img-link-overlay\"]'):\n",
    "    Brand_Name.append(i.text)\n"
   ]
  },
  {
   "cell_type": "code",
   "execution_count": 9,
   "id": "a2c38490",
   "metadata": {},
   "outputs": [],
   "source": [
    "Shoes = pd.DataFrame({'Brand Name':Brand_Name})"
   ]
  },
  {
   "cell_type": "code",
   "execution_count": 10,
   "id": "3de3b07d",
   "metadata": {},
   "outputs": [
    {
     "data": {
      "text/html": [
       "<div>\n",
       "<style scoped>\n",
       "    .dataframe tbody tr th:only-of-type {\n",
       "        vertical-align: middle;\n",
       "    }\n",
       "\n",
       "    .dataframe tbody tr th {\n",
       "        vertical-align: top;\n",
       "    }\n",
       "\n",
       "    .dataframe thead th {\n",
       "        text-align: right;\n",
       "    }\n",
       "</style>\n",
       "<table border=\"1\" class=\"dataframe\">\n",
       "  <thead>\n",
       "    <tr style=\"text-align: right;\">\n",
       "      <th></th>\n",
       "      <th>Brand Name</th>\n",
       "    </tr>\n",
       "  </thead>\n",
       "  <tbody>\n",
       "    <tr>\n",
       "      <th>0</th>\n",
       "      <td></td>\n",
       "    </tr>\n",
       "    <tr>\n",
       "      <th>1</th>\n",
       "      <td></td>\n",
       "    </tr>\n",
       "    <tr>\n",
       "      <th>2</th>\n",
       "      <td></td>\n",
       "    </tr>\n",
       "    <tr>\n",
       "      <th>3</th>\n",
       "      <td></td>\n",
       "    </tr>\n",
       "    <tr>\n",
       "      <th>4</th>\n",
       "      <td></td>\n",
       "    </tr>\n",
       "    <tr>\n",
       "      <th>5</th>\n",
       "      <td></td>\n",
       "    </tr>\n",
       "    <tr>\n",
       "      <th>6</th>\n",
       "      <td></td>\n",
       "    </tr>\n",
       "    <tr>\n",
       "      <th>7</th>\n",
       "      <td></td>\n",
       "    </tr>\n",
       "    <tr>\n",
       "      <th>8</th>\n",
       "      <td></td>\n",
       "    </tr>\n",
       "    <tr>\n",
       "      <th>9</th>\n",
       "      <td></td>\n",
       "    </tr>\n",
       "    <tr>\n",
       "      <th>10</th>\n",
       "      <td></td>\n",
       "    </tr>\n",
       "    <tr>\n",
       "      <th>11</th>\n",
       "      <td></td>\n",
       "    </tr>\n",
       "    <tr>\n",
       "      <th>12</th>\n",
       "      <td></td>\n",
       "    </tr>\n",
       "    <tr>\n",
       "      <th>13</th>\n",
       "      <td></td>\n",
       "    </tr>\n",
       "    <tr>\n",
       "      <th>14</th>\n",
       "      <td></td>\n",
       "    </tr>\n",
       "    <tr>\n",
       "      <th>15</th>\n",
       "      <td></td>\n",
       "    </tr>\n",
       "    <tr>\n",
       "      <th>16</th>\n",
       "      <td></td>\n",
       "    </tr>\n",
       "    <tr>\n",
       "      <th>17</th>\n",
       "      <td></td>\n",
       "    </tr>\n",
       "    <tr>\n",
       "      <th>18</th>\n",
       "      <td></td>\n",
       "    </tr>\n",
       "    <tr>\n",
       "      <th>19</th>\n",
       "      <td></td>\n",
       "    </tr>\n",
       "    <tr>\n",
       "      <th>20</th>\n",
       "      <td></td>\n",
       "    </tr>\n",
       "    <tr>\n",
       "      <th>21</th>\n",
       "      <td></td>\n",
       "    </tr>\n",
       "    <tr>\n",
       "      <th>22</th>\n",
       "      <td></td>\n",
       "    </tr>\n",
       "    <tr>\n",
       "      <th>23</th>\n",
       "      <td></td>\n",
       "    </tr>\n",
       "  </tbody>\n",
       "</table>\n",
       "</div>"
      ],
      "text/plain": [
       "   Brand Name\n",
       "0            \n",
       "1            \n",
       "2            \n",
       "3            \n",
       "4            \n",
       "5            \n",
       "6            \n",
       "7            \n",
       "8            \n",
       "9            \n",
       "10           \n",
       "11           \n",
       "12           \n",
       "13           \n",
       "14           \n",
       "15           \n",
       "16           \n",
       "17           \n",
       "18           \n",
       "19           \n",
       "20           \n",
       "21           \n",
       "22           \n",
       "23           "
      ]
     },
     "execution_count": 10,
     "metadata": {},
     "output_type": "execute_result"
    }
   ],
   "source": [
    "Shoes"
   ]
  },
  {
   "cell_type": "code",
   "execution_count": 11,
   "id": "a6566e1a",
   "metadata": {},
   "outputs": [],
   "source": [
    "driver.close()"
   ]
  },
  {
   "cell_type": "code",
   "execution_count": 1,
   "id": "2ee21cd7",
   "metadata": {},
   "outputs": [],
   "source": [
    "# 2. https://www.adidas.com"
   ]
  },
  {
   "cell_type": "code",
   "execution_count": 2,
   "id": "6756af7a",
   "metadata": {},
   "outputs": [],
   "source": [
    "import selenium\n",
    "from selenium import webdriver\n",
    "import pandas as pd\n",
    "from selenium.webdriver.common.by import By\n",
    "from selenium.common.exceptions import NoSuchElementException,StaleElementReferenceException\n",
    "import time"
   ]
  },
  {
   "cell_type": "code",
   "execution_count": 3,
   "id": "62067c01",
   "metadata": {},
   "outputs": [],
   "source": [
    "import warnings\n",
    "warnings.filterwarnings('ignore')"
   ]
  },
  {
   "cell_type": "code",
   "execution_count": 4,
   "id": "d90fdadd",
   "metadata": {},
   "outputs": [],
   "source": [
    "driver = webdriver.Chrome()"
   ]
  },
  {
   "cell_type": "code",
   "execution_count": 5,
   "id": "06a7ef70",
   "metadata": {},
   "outputs": [],
   "source": [
    "driver.get('https://www.adidas.com')"
   ]
  },
  {
   "cell_type": "code",
   "execution_count": 6,
   "id": "c2b518d9",
   "metadata": {},
   "outputs": [],
   "source": [
    "Womens = driver.find_element(By.XPATH,'/html/body/div[1]/div[2]/div[2]/div/header/div[2]/div/ul/li[2]/a')\n",
    "Womens.click()"
   ]
  },
  {
   "cell_type": "code",
   "execution_count": 7,
   "id": "46ea25fd",
   "metadata": {},
   "outputs": [],
   "source": [
    "Best_of_adidas = driver.find_element(By.XPATH, '/html/body/div[1]/div[2]/div[7]/section/div/div/div/div[1]/div/button[2]')\n",
    "Best_of_adidas.click()"
   ]
  },
  {
   "cell_type": "code",
   "execution_count": 11,
   "id": "9fa241cc",
   "metadata": {},
   "outputs": [],
   "source": [
    "Name = []\n",
    "Price = []\n",
    "Type =[]\n",
    "\n",
    "for i in driver.find_elements(By.XPATH,\"//p[@class='_product-card-details__name_2rvru_1255']\"):\n",
    "    Name.append(i.text)\n",
    "    \n",
    "for i in driver.find_elements(By.XPATH,\"//div[@class='gl-price-item notranslate _product-card-assets__price-item_2rvru_1147']\"):\n",
    "    Price.append(i.text)\n",
    "    \n",
    "for i in driver.find_elements(By.XPATH,\"//p[@class='_product-card-details__category_2rvru_1268 _small_2rvru_1276']\"):\n",
    "    Type.append(i.text)\n"
   ]
  },
  {
   "cell_type": "code",
   "execution_count": 12,
   "id": "2a4c2005",
   "metadata": {},
   "outputs": [
    {
     "name": "stdout",
     "output_type": "stream",
     "text": [
      "16 13 16\n"
     ]
    }
   ],
   "source": [
    "print(len(Name),len(Price),len(Type))"
   ]
  },
  {
   "cell_type": "code",
   "execution_count": 14,
   "id": "21550e1d",
   "metadata": {},
   "outputs": [],
   "source": [
    "Adidas = pd.DataFrame({'Brand Name':Name[0:13], 'Price':Price[0:13], 'Type':Type[0:13]})"
   ]
  },
  {
   "cell_type": "code",
   "execution_count": 15,
   "id": "be21825a",
   "metadata": {},
   "outputs": [],
   "source": [
    "Adidas.to_csv('Adidas.csv')"
   ]
  },
  {
   "cell_type": "code",
   "execution_count": 16,
   "id": "2a8bf1bb",
   "metadata": {},
   "outputs": [
    {
     "data": {
      "text/html": [
       "<div>\n",
       "<style scoped>\n",
       "    .dataframe tbody tr th:only-of-type {\n",
       "        vertical-align: middle;\n",
       "    }\n",
       "\n",
       "    .dataframe tbody tr th {\n",
       "        vertical-align: top;\n",
       "    }\n",
       "\n",
       "    .dataframe thead th {\n",
       "        text-align: right;\n",
       "    }\n",
       "</style>\n",
       "<table border=\"1\" class=\"dataframe\">\n",
       "  <thead>\n",
       "    <tr style=\"text-align: right;\">\n",
       "      <th></th>\n",
       "      <th>Unnamed: 0</th>\n",
       "      <th>Brand Name</th>\n",
       "      <th>Price</th>\n",
       "      <th>Type</th>\n",
       "    </tr>\n",
       "  </thead>\n",
       "  <tbody>\n",
       "    <tr>\n",
       "      <th>0</th>\n",
       "      <td>0</td>\n",
       "      <td>Samba OG Shoes</td>\n",
       "      <td>₹10 999.00</td>\n",
       "      <td>Shoes</td>\n",
       "    </tr>\n",
       "    <tr>\n",
       "      <th>1</th>\n",
       "      <td>1</td>\n",
       "      <td>Handball Spezial Shoes</td>\n",
       "      <td>₹10 999.00</td>\n",
       "      <td>Shoes</td>\n",
       "    </tr>\n",
       "    <tr>\n",
       "      <th>2</th>\n",
       "      <td>2</td>\n",
       "      <td>INDIA CRICKET ODI FAN JERSEY</td>\n",
       "      <td>₹999.00</td>\n",
       "      <td>Clothing</td>\n",
       "    </tr>\n",
       "    <tr>\n",
       "      <th>3</th>\n",
       "      <td>3</td>\n",
       "      <td>BRANDLOVE HOODIE</td>\n",
       "      <td>₹10 999.00</td>\n",
       "      <td>Clothing</td>\n",
       "    </tr>\n",
       "    <tr>\n",
       "      <th>4</th>\n",
       "      <td>4</td>\n",
       "      <td>Samba OG Shoes</td>\n",
       "      <td>₹9 999.00</td>\n",
       "      <td>Shoes</td>\n",
       "    </tr>\n",
       "    <tr>\n",
       "      <th>5</th>\n",
       "      <td>5</td>\n",
       "      <td>Forum Low Shoes</td>\n",
       "      <td>₹5 299.00</td>\n",
       "      <td>Shoes</td>\n",
       "    </tr>\n",
       "    <tr>\n",
       "      <th>6</th>\n",
       "      <td>6</td>\n",
       "      <td>Inter Miami CF 23/24 Messi 10 Away Jersey</td>\n",
       "      <td>₹3 799.00</td>\n",
       "      <td>Clothing</td>\n",
       "    </tr>\n",
       "    <tr>\n",
       "      <th>7</th>\n",
       "      <td>7</td>\n",
       "      <td>Tensaur Hook and Loop Shoes</td>\n",
       "      <td>₹1 999.00</td>\n",
       "      <td>Shoes</td>\n",
       "    </tr>\n",
       "    <tr>\n",
       "      <th>8</th>\n",
       "      <td>8</td>\n",
       "      <td>Adilette Aqua Slides</td>\n",
       "      <td>₹2 499.00</td>\n",
       "      <td>Shoes</td>\n",
       "    </tr>\n",
       "    <tr>\n",
       "      <th>9</th>\n",
       "      <td>9</td>\n",
       "      <td>AEROREADY Designed for Movement Shorts</td>\n",
       "      <td>₹11 999.00</td>\n",
       "      <td>Clothing</td>\n",
       "    </tr>\n",
       "    <tr>\n",
       "      <th>10</th>\n",
       "      <td>10</td>\n",
       "      <td>STREET ICON SHOES</td>\n",
       "      <td>₹9 999.00</td>\n",
       "      <td>Shoes</td>\n",
       "    </tr>\n",
       "    <tr>\n",
       "      <th>11</th>\n",
       "      <td>11</td>\n",
       "      <td>Essentials Single Jersey Big Logo Tee</td>\n",
       "      <td>₹1 799.00</td>\n",
       "      <td>Clothing</td>\n",
       "    </tr>\n",
       "    <tr>\n",
       "      <th>12</th>\n",
       "      <td>12</td>\n",
       "      <td>Samba OG Shoes</td>\n",
       "      <td>₹2 499.00</td>\n",
       "      <td>Shoes</td>\n",
       "    </tr>\n",
       "  </tbody>\n",
       "</table>\n",
       "</div>"
      ],
      "text/plain": [
       "    Unnamed: 0                                 Brand Name       Price  \\\n",
       "0            0                             Samba OG Shoes  ₹10 999.00   \n",
       "1            1                     Handball Spezial Shoes  ₹10 999.00   \n",
       "2            2               INDIA CRICKET ODI FAN JERSEY     ₹999.00   \n",
       "3            3                           BRANDLOVE HOODIE  ₹10 999.00   \n",
       "4            4                             Samba OG Shoes   ₹9 999.00   \n",
       "5            5                            Forum Low Shoes   ₹5 299.00   \n",
       "6            6  Inter Miami CF 23/24 Messi 10 Away Jersey   ₹3 799.00   \n",
       "7            7                Tensaur Hook and Loop Shoes   ₹1 999.00   \n",
       "8            8                       Adilette Aqua Slides   ₹2 499.00   \n",
       "9            9     AEROREADY Designed for Movement Shorts  ₹11 999.00   \n",
       "10          10                          STREET ICON SHOES   ₹9 999.00   \n",
       "11          11      Essentials Single Jersey Big Logo Tee   ₹1 799.00   \n",
       "12          12                             Samba OG Shoes   ₹2 499.00   \n",
       "\n",
       "        Type  \n",
       "0      Shoes  \n",
       "1      Shoes  \n",
       "2   Clothing  \n",
       "3   Clothing  \n",
       "4      Shoes  \n",
       "5      Shoes  \n",
       "6   Clothing  \n",
       "7      Shoes  \n",
       "8      Shoes  \n",
       "9   Clothing  \n",
       "10     Shoes  \n",
       "11  Clothing  \n",
       "12     Shoes  "
      ]
     },
     "execution_count": 16,
     "metadata": {},
     "output_type": "execute_result"
    }
   ],
   "source": [
    "Data = pd.read_csv('Adidas.csv')\n",
    "Data"
   ]
  },
  {
   "cell_type": "code",
   "execution_count": 17,
   "id": "5226ed94",
   "metadata": {},
   "outputs": [],
   "source": [
    "driver.close()"
   ]
  },
  {
   "cell_type": "code",
   "execution_count": 18,
   "id": "44680549",
   "metadata": {},
   "outputs": [],
   "source": [
    "# 3. https://us.puma.com/us/en"
   ]
  },
  {
   "cell_type": "code",
   "execution_count": 23,
   "id": "1cf0c35e",
   "metadata": {},
   "outputs": [],
   "source": [
    "import selenium\n",
    "from selenium import webdriver\n",
    "import pandas as pd\n",
    "from selenium.webdriver.common.by import By\n",
    "from selenium.common.exceptions import NoSuchElementException,StaleElementReferenceException\n",
    "import time"
   ]
  },
  {
   "cell_type": "code",
   "execution_count": 24,
   "id": "057af03f",
   "metadata": {},
   "outputs": [],
   "source": [
    "import warnings\n",
    "warnings.filterwarnings('ignore')"
   ]
  },
  {
   "cell_type": "code",
   "execution_count": 25,
   "id": "d50e29d6",
   "metadata": {},
   "outputs": [],
   "source": [
    "driver = webdriver.Chrome()"
   ]
  },
  {
   "cell_type": "code",
   "execution_count": 26,
   "id": "6f88f9a3",
   "metadata": {},
   "outputs": [],
   "source": [
    "driver.get('https://us.puma.com/us/en')"
   ]
  },
  {
   "cell_type": "code",
   "execution_count": 27,
   "id": "e91ba508",
   "metadata": {},
   "outputs": [],
   "source": [
    "location = driver.find_element(By.XPATH,'/html/body/div[1]/div[1]/main/section/div[2]/a/button')\n",
    "location.click()"
   ]
  },
  {
   "cell_type": "code",
   "execution_count": 28,
   "id": "72197fda",
   "metadata": {},
   "outputs": [],
   "source": [
    "Sneakers = driver.find_element(By.XPATH,'/html/body/div[1]/div[1]/main/div/div/div[3]/div[1]/div/div/div/div/div[1]/div/a/div[1]/div/div')\n",
    "Sneakers.click()"
   ]
  },
  {
   "cell_type": "code",
   "execution_count": 29,
   "id": "bc4a7c94",
   "metadata": {},
   "outputs": [],
   "source": [
    "Name = []\n",
    "Price = []\n",
    "Colors =[]\n",
    "\n",
    "for i in driver.find_elements(By.XPATH,\"//h3[@class='w-full mobile:text-sm mobile:pr-0 font-bold text-base pr-5 line-clamp-2']\"):\n",
    "    Name.append(i.text)\n",
    "    \n",
    "for i in driver.find_elements(By.XPATH,\"//span[@class='whitespace-nowrap text-base text-puma-red font-bold']\"):\n",
    "    Price.append(i.text)\n",
    "    \n",
    "for i in driver.find_elements(By.XPATH,\"//span[@class='group-hover:hidden group-focus-within:hidden text-puma-black-300 uppercase text-xs whitespace-nowrap']\"):\n",
    "    Colors.append(i.text)"
   ]
  },
  {
   "cell_type": "code",
   "execution_count": 30,
   "id": "db36c560",
   "metadata": {},
   "outputs": [
    {
     "name": "stdout",
     "output_type": "stream",
     "text": [
      "24 24 19\n"
     ]
    }
   ],
   "source": [
    "print(len(Name),len(Price),len(Colors))"
   ]
  },
  {
   "cell_type": "code",
   "execution_count": 31,
   "id": "6dfe10dc",
   "metadata": {},
   "outputs": [],
   "source": [
    "Sneakers = pd.DataFrame({'Brand Name':Name[0:19], 'Price':Price[0:19], 'Colors':Colors[0:19]})"
   ]
  },
  {
   "cell_type": "code",
   "execution_count": 32,
   "id": "97a92a28",
   "metadata": {},
   "outputs": [],
   "source": [
    "Sneakers.to_csv('Sneakers.csv')"
   ]
  },
  {
   "cell_type": "code",
   "execution_count": 33,
   "id": "4cf73f0b",
   "metadata": {},
   "outputs": [
    {
     "data": {
      "text/html": [
       "<div>\n",
       "<style scoped>\n",
       "    .dataframe tbody tr th:only-of-type {\n",
       "        vertical-align: middle;\n",
       "    }\n",
       "\n",
       "    .dataframe tbody tr th {\n",
       "        vertical-align: top;\n",
       "    }\n",
       "\n",
       "    .dataframe thead th {\n",
       "        text-align: right;\n",
       "    }\n",
       "</style>\n",
       "<table border=\"1\" class=\"dataframe\">\n",
       "  <thead>\n",
       "    <tr style=\"text-align: right;\">\n",
       "      <th></th>\n",
       "      <th>Unnamed: 0</th>\n",
       "      <th>Brand Name</th>\n",
       "      <th>Price</th>\n",
       "      <th>Colors</th>\n",
       "    </tr>\n",
       "  </thead>\n",
       "  <tbody>\n",
       "    <tr>\n",
       "      <th>0</th>\n",
       "      <td>0</td>\n",
       "      <td>RS 3.0 Unisex Sneakers\\nPUMA Black-PUMA White-...</td>\n",
       "      <td>₹3,999</td>\n",
       "      <td>3 COLORS</td>\n",
       "    </tr>\n",
       "    <tr>\n",
       "      <th>1</th>\n",
       "      <td>1</td>\n",
       "      <td>RS 3.0 Unisex Sneakers\\nPUMA Black-PUMA White</td>\n",
       "      <td>₹3,999</td>\n",
       "      <td>3 COLORS</td>\n",
       "    </tr>\n",
       "    <tr>\n",
       "      <th>2</th>\n",
       "      <td>2</td>\n",
       "      <td>RS 3.0 Unisex Sneakers\\nPUMA White-PUMA Black</td>\n",
       "      <td>₹3,999</td>\n",
       "      <td>3 COLORS</td>\n",
       "    </tr>\n",
       "    <tr>\n",
       "      <th>3</th>\n",
       "      <td>3</td>\n",
       "      <td>Scuderia Ferrari Clyde Unisex Sneakers\\nRosso ...</td>\n",
       "      <td>₹4,999</td>\n",
       "      <td>2 COLORS</td>\n",
       "    </tr>\n",
       "    <tr>\n",
       "      <th>4</th>\n",
       "      <td>4</td>\n",
       "      <td>Mayze Crashed PRM Women's Sneakers\\nWarm White</td>\n",
       "      <td>₹5,399</td>\n",
       "      <td>2 COLORS</td>\n",
       "    </tr>\n",
       "    <tr>\n",
       "      <th>5</th>\n",
       "      <td>5</td>\n",
       "      <td>Mayze Crashed PRM Women's Sneakers\\nPUMA White</td>\n",
       "      <td>₹5,399</td>\n",
       "      <td>2 COLORS</td>\n",
       "    </tr>\n",
       "    <tr>\n",
       "      <th>6</th>\n",
       "      <td>6</td>\n",
       "      <td>Blktop Rider Lithium Unisex Sneakers\\nInky Blu...</td>\n",
       "      <td>₹5,399</td>\n",
       "      <td>2 COLORS</td>\n",
       "    </tr>\n",
       "    <tr>\n",
       "      <th>7</th>\n",
       "      <td>7</td>\n",
       "      <td>Blktop Rider Lithium Unisex Sneakers\\nPUMA Bla...</td>\n",
       "      <td>₹5,399</td>\n",
       "      <td>2 COLORS</td>\n",
       "    </tr>\n",
       "    <tr>\n",
       "      <th>8</th>\n",
       "      <td>8</td>\n",
       "      <td>Slipstream Bball Mix Unisex Sneakers\\nPUMA Whi...</td>\n",
       "      <td>₹6,599</td>\n",
       "      <td>2 COLORS</td>\n",
       "    </tr>\n",
       "    <tr>\n",
       "      <th>9</th>\n",
       "      <td>9</td>\n",
       "      <td>PUMA x THE SMURFS RS-X Sneakers\\nTeam Light Bl...</td>\n",
       "      <td>₹7,199</td>\n",
       "      <td>7 COLORS</td>\n",
       "    </tr>\n",
       "    <tr>\n",
       "      <th>10</th>\n",
       "      <td>10</td>\n",
       "      <td>RBD Game Unisex Sneakers\\nPuma White-Puma Blac...</td>\n",
       "      <td>₹4,499</td>\n",
       "      <td>7 COLORS</td>\n",
       "    </tr>\n",
       "    <tr>\n",
       "      <th>11</th>\n",
       "      <td>11</td>\n",
       "      <td>RBD Game Unisex Sneakers\\nPuma White-Puma Whit...</td>\n",
       "      <td>₹4,499</td>\n",
       "      <td>7 COLORS</td>\n",
       "    </tr>\n",
       "    <tr>\n",
       "      <th>12</th>\n",
       "      <td>12</td>\n",
       "      <td>RS-X Geek Unisex Sneakers\\nPUMA Black-Malachite</td>\n",
       "      <td>₹6,599</td>\n",
       "      <td>7 COLORS</td>\n",
       "    </tr>\n",
       "    <tr>\n",
       "      <th>13</th>\n",
       "      <td>13</td>\n",
       "      <td>RS-X Geek Unisex Sneakers\\nPUMA White-Persian ...</td>\n",
       "      <td>₹6,599</td>\n",
       "      <td>7 COLORS</td>\n",
       "    </tr>\n",
       "    <tr>\n",
       "      <th>14</th>\n",
       "      <td>14</td>\n",
       "      <td>RS-X Geek Unisex Sneakers\\nFeather Gray-Cool M...</td>\n",
       "      <td>₹6,599</td>\n",
       "      <td>7 COLORS</td>\n",
       "    </tr>\n",
       "    <tr>\n",
       "      <th>15</th>\n",
       "      <td>15</td>\n",
       "      <td>RS-X Geek Unisex Sneakers\\nPUMA White-Fizzy Lime</td>\n",
       "      <td>₹5,499</td>\n",
       "      <td>7 COLORS</td>\n",
       "    </tr>\n",
       "    <tr>\n",
       "      <th>16</th>\n",
       "      <td>16</td>\n",
       "      <td>RS-X Geek Unisex Sneakers\\nPUMA Black-Strong Gray</td>\n",
       "      <td>₹4,659</td>\n",
       "      <td>2 COLORS</td>\n",
       "    </tr>\n",
       "    <tr>\n",
       "      <th>17</th>\n",
       "      <td>17</td>\n",
       "      <td>RS-X Geek Unisex Sneakers\\nPUMA White-Inky Blue</td>\n",
       "      <td>₹6,599</td>\n",
       "      <td>2 COLORS</td>\n",
       "    </tr>\n",
       "    <tr>\n",
       "      <th>18</th>\n",
       "      <td>18</td>\n",
       "      <td>RS-X Geek Unisex Sneakers\\nPUMA Black-Team Lig...</td>\n",
       "      <td>₹6,599</td>\n",
       "      <td>2 COLORS</td>\n",
       "    </tr>\n",
       "  </tbody>\n",
       "</table>\n",
       "</div>"
      ],
      "text/plain": [
       "    Unnamed: 0                                         Brand Name   Price  \\\n",
       "0            0  RS 3.0 Unisex Sneakers\\nPUMA Black-PUMA White-...  ₹3,999   \n",
       "1            1      RS 3.0 Unisex Sneakers\\nPUMA Black-PUMA White  ₹3,999   \n",
       "2            2      RS 3.0 Unisex Sneakers\\nPUMA White-PUMA Black  ₹3,999   \n",
       "3            3  Scuderia Ferrari Clyde Unisex Sneakers\\nRosso ...  ₹4,999   \n",
       "4            4     Mayze Crashed PRM Women's Sneakers\\nWarm White  ₹5,399   \n",
       "5            5     Mayze Crashed PRM Women's Sneakers\\nPUMA White  ₹5,399   \n",
       "6            6  Blktop Rider Lithium Unisex Sneakers\\nInky Blu...  ₹5,399   \n",
       "7            7  Blktop Rider Lithium Unisex Sneakers\\nPUMA Bla...  ₹5,399   \n",
       "8            8  Slipstream Bball Mix Unisex Sneakers\\nPUMA Whi...  ₹6,599   \n",
       "9            9  PUMA x THE SMURFS RS-X Sneakers\\nTeam Light Bl...  ₹7,199   \n",
       "10          10  RBD Game Unisex Sneakers\\nPuma White-Puma Blac...  ₹4,499   \n",
       "11          11  RBD Game Unisex Sneakers\\nPuma White-Puma Whit...  ₹4,499   \n",
       "12          12    RS-X Geek Unisex Sneakers\\nPUMA Black-Malachite  ₹6,599   \n",
       "13          13  RS-X Geek Unisex Sneakers\\nPUMA White-Persian ...  ₹6,599   \n",
       "14          14  RS-X Geek Unisex Sneakers\\nFeather Gray-Cool M...  ₹6,599   \n",
       "15          15   RS-X Geek Unisex Sneakers\\nPUMA White-Fizzy Lime  ₹5,499   \n",
       "16          16  RS-X Geek Unisex Sneakers\\nPUMA Black-Strong Gray  ₹4,659   \n",
       "17          17    RS-X Geek Unisex Sneakers\\nPUMA White-Inky Blue  ₹6,599   \n",
       "18          18  RS-X Geek Unisex Sneakers\\nPUMA Black-Team Lig...  ₹6,599   \n",
       "\n",
       "      Colors  \n",
       "0   3 COLORS  \n",
       "1   3 COLORS  \n",
       "2   3 COLORS  \n",
       "3   2 COLORS  \n",
       "4   2 COLORS  \n",
       "5   2 COLORS  \n",
       "6   2 COLORS  \n",
       "7   2 COLORS  \n",
       "8   2 COLORS  \n",
       "9   7 COLORS  \n",
       "10  7 COLORS  \n",
       "11  7 COLORS  \n",
       "12  7 COLORS  \n",
       "13  7 COLORS  \n",
       "14  7 COLORS  \n",
       "15  7 COLORS  \n",
       "16  2 COLORS  \n",
       "17  2 COLORS  \n",
       "18  2 COLORS  "
      ]
     },
     "execution_count": 33,
     "metadata": {},
     "output_type": "execute_result"
    }
   ],
   "source": [
    "Data = pd.read_csv('Sneakers.csv')\n",
    "Data"
   ]
  },
  {
   "cell_type": "code",
   "execution_count": 34,
   "id": "15f4e202",
   "metadata": {},
   "outputs": [],
   "source": [
    "driver.close()"
   ]
  },
  {
   "cell_type": "code",
   "execution_count": 1,
   "id": "297d04b6",
   "metadata": {},
   "outputs": [],
   "source": [
    "# 4. https://www.skechers.com"
   ]
  },
  {
   "cell_type": "code",
   "execution_count": 2,
   "id": "7d4168f6",
   "metadata": {},
   "outputs": [],
   "source": [
    "import selenium\n",
    "from selenium import webdriver\n",
    "import pandas as pd\n",
    "from selenium.webdriver.common.by import By\n",
    "from selenium.common.exceptions import NoSuchElementException,StaleElementReferenceException\n",
    "import time"
   ]
  },
  {
   "cell_type": "code",
   "execution_count": 3,
   "id": "c7c50561",
   "metadata": {},
   "outputs": [],
   "source": [
    "import warnings\n",
    "warnings.filterwarnings('ignore')"
   ]
  },
  {
   "cell_type": "code",
   "execution_count": 10,
   "id": "7c706133",
   "metadata": {},
   "outputs": [],
   "source": [
    "driver = webdriver.Chrome()"
   ]
  },
  {
   "cell_type": "code",
   "execution_count": 11,
   "id": "4754d30f",
   "metadata": {},
   "outputs": [],
   "source": [
    "driver.get('https://www.skechers.com')"
   ]
  },
  {
   "cell_type": "code",
   "execution_count": 12,
   "id": "5269f0f4",
   "metadata": {},
   "outputs": [],
   "source": [
    "Name = []\n",
    "Price = []\n",
    "Colors =[]\n",
    "Gender = []\n",
    "\n",
    "for i in driver.find_elements(By.XPATH,\"//a[@class='link c-product-tile__title']\"):\n",
    "    Name.append(i.text)\n",
    "    \n",
    "for i in driver.find_elements(By.XPATH,\"//span[@class='value']\"):\n",
    "    Price.append(i.text)\n",
    "    \n",
    "for i in driver.find_elements(By.XPATH,\"//div[@class='c-product-tile__color-swatches__label']\"):\n",
    "    Colors.append(i.text)\n",
    "\n",
    "for i in driver.find_elements(By.XPATH,\"//div[@class='c-product-tile__gender']\"):\n",
    "    Gender.append(i.text)"
   ]
  },
  {
   "cell_type": "code",
   "execution_count": 13,
   "id": "b5fde9c0",
   "metadata": {},
   "outputs": [
    {
     "name": "stdout",
     "output_type": "stream",
     "text": [
      "8 8 8\n"
     ]
    }
   ],
   "source": [
    "print(len(Price),len(Colors),len(Gender))"
   ]
  },
  {
   "cell_type": "code",
   "execution_count": 14,
   "id": "f586cc49",
   "metadata": {},
   "outputs": [],
   "source": [
    "Skechers = pd.DataFrame({'Price':Price[0:8], 'Colors':Colors[0:8], 'Gender':Gender[0:8]})"
   ]
  },
  {
   "cell_type": "code",
   "execution_count": 15,
   "id": "c75a3a01",
   "metadata": {},
   "outputs": [],
   "source": [
    "Skechers.to_csv('Skechers.csv')"
   ]
  },
  {
   "cell_type": "code",
   "execution_count": 16,
   "id": "e96bdbcf",
   "metadata": {},
   "outputs": [
    {
     "data": {
      "text/html": [
       "<div>\n",
       "<style scoped>\n",
       "    .dataframe tbody tr th:only-of-type {\n",
       "        vertical-align: middle;\n",
       "    }\n",
       "\n",
       "    .dataframe tbody tr th {\n",
       "        vertical-align: top;\n",
       "    }\n",
       "\n",
       "    .dataframe thead th {\n",
       "        text-align: right;\n",
       "    }\n",
       "</style>\n",
       "<table border=\"1\" class=\"dataframe\">\n",
       "  <thead>\n",
       "    <tr style=\"text-align: right;\">\n",
       "      <th></th>\n",
       "      <th>Unnamed: 0</th>\n",
       "      <th>Price</th>\n",
       "      <th>Colors</th>\n",
       "      <th>Gender</th>\n",
       "    </tr>\n",
       "  </thead>\n",
       "  <tbody>\n",
       "    <tr>\n",
       "      <th>0</th>\n",
       "      <td>0</td>\n",
       "      <td>$75.00</td>\n",
       "      <td>4 Colors</td>\n",
       "      <td>WOMEN'S</td>\n",
       "    </tr>\n",
       "    <tr>\n",
       "      <th>1</th>\n",
       "      <td>1</td>\n",
       "      <td>$75.00</td>\n",
       "      <td>4 Colors</td>\n",
       "      <td>WOMEN'S</td>\n",
       "    </tr>\n",
       "    <tr>\n",
       "      <th>2</th>\n",
       "      <td>2</td>\n",
       "      <td>$70.00</td>\n",
       "      <td>4 Colors</td>\n",
       "      <td>MEN'S</td>\n",
       "    </tr>\n",
       "    <tr>\n",
       "      <th>3</th>\n",
       "      <td>3</td>\n",
       "      <td>NaN</td>\n",
       "      <td>NaN</td>\n",
       "      <td>NaN</td>\n",
       "    </tr>\n",
       "    <tr>\n",
       "      <th>4</th>\n",
       "      <td>4</td>\n",
       "      <td>NaN</td>\n",
       "      <td>NaN</td>\n",
       "      <td>NaN</td>\n",
       "    </tr>\n",
       "    <tr>\n",
       "      <th>5</th>\n",
       "      <td>5</td>\n",
       "      <td>NaN</td>\n",
       "      <td>NaN</td>\n",
       "      <td>NaN</td>\n",
       "    </tr>\n",
       "    <tr>\n",
       "      <th>6</th>\n",
       "      <td>6</td>\n",
       "      <td>NaN</td>\n",
       "      <td>NaN</td>\n",
       "      <td>NaN</td>\n",
       "    </tr>\n",
       "    <tr>\n",
       "      <th>7</th>\n",
       "      <td>7</td>\n",
       "      <td>NaN</td>\n",
       "      <td>NaN</td>\n",
       "      <td>NaN</td>\n",
       "    </tr>\n",
       "  </tbody>\n",
       "</table>\n",
       "</div>"
      ],
      "text/plain": [
       "   Unnamed: 0   Price    Colors   Gender\n",
       "0           0  $75.00  4 Colors  WOMEN'S\n",
       "1           1  $75.00  4 Colors  WOMEN'S\n",
       "2           2  $70.00  4 Colors    MEN'S\n",
       "3           3     NaN       NaN      NaN\n",
       "4           4     NaN       NaN      NaN\n",
       "5           5     NaN       NaN      NaN\n",
       "6           6     NaN       NaN      NaN\n",
       "7           7     NaN       NaN      NaN"
      ]
     },
     "execution_count": 16,
     "metadata": {},
     "output_type": "execute_result"
    }
   ],
   "source": [
    "Data = pd.read_csv('Skechers.csv')\n",
    "Data"
   ]
  },
  {
   "cell_type": "code",
   "execution_count": 17,
   "id": "3663d249",
   "metadata": {},
   "outputs": [],
   "source": [
    "driver.close()"
   ]
  },
  {
   "cell_type": "code",
   "execution_count": 26,
   "id": "bea44974",
   "metadata": {},
   "outputs": [],
   "source": [
    "# 5. https://www.columbia.com/"
   ]
  },
  {
   "cell_type": "code",
   "execution_count": 27,
   "id": "d493d5c1",
   "metadata": {},
   "outputs": [],
   "source": [
    "import selenium\n",
    "from selenium import webdriver\n",
    "import pandas as pd\n",
    "from selenium.webdriver.common.by import By\n",
    "from selenium.common.exceptions import NoSuchElementException,StaleElementReferenceException\n",
    "import time"
   ]
  },
  {
   "cell_type": "code",
   "execution_count": 28,
   "id": "f2a1b561",
   "metadata": {},
   "outputs": [],
   "source": [
    "import warnings\n",
    "warnings.filterwarnings('ignore')"
   ]
  },
  {
   "cell_type": "code",
   "execution_count": 29,
   "id": "46a4338e",
   "metadata": {},
   "outputs": [],
   "source": [
    "driver = webdriver.Chrome()"
   ]
  },
  {
   "cell_type": "code",
   "execution_count": 30,
   "id": "a49dcd5d",
   "metadata": {},
   "outputs": [],
   "source": [
    "driver.get('https://www.columbia.com/')"
   ]
  },
  {
   "cell_type": "code",
   "execution_count": 32,
   "id": "e3c63352",
   "metadata": {},
   "outputs": [],
   "source": [
    "Click = driver.find_element(By.XPATH,'/html/body/div[1]/div[2]/div/div/div/div[1]/button/i')\n",
    "Click.click()"
   ]
  },
  {
   "cell_type": "code",
   "execution_count": 33,
   "id": "af3b9cd0",
   "metadata": {},
   "outputs": [],
   "source": [
    "Country = driver.find_element(By.XPATH,'/html/body/div[7]/div[4]/a[1]/div/div[1]/div')\n",
    "Country.click()"
   ]
  },
  {
   "cell_type": "code",
   "execution_count": 34,
   "id": "5843222a",
   "metadata": {},
   "outputs": [],
   "source": [
    "Best_Seller = driver.find_element(By.XPATH,'/html/body/div[5]/div[2]/div/div/div/div/div/div/div/div/div/div/div/div[1]/div/div/ul/li[2]/a')\n",
    "Best_Seller.click()"
   ]
  },
  {
   "cell_type": "code",
   "execution_count": 36,
   "id": "3bd8ebfb",
   "metadata": {},
   "outputs": [],
   "source": [
    "Name = []\n",
    "Price = []\n",
    "\n",
    "for i in driver.find_elements(By.XPATH,\"//a[@class='single-product']\"):\n",
    "    Name.append(i.text)\n",
    "    \n",
    "for i in driver.find_elements(By.XPATH,\"//span[@class='price-new']\"):\n",
    "    Price.append(i.text)\n",
    "    "
   ]
  },
  {
   "cell_type": "code",
   "execution_count": 37,
   "id": "6208a962",
   "metadata": {},
   "outputs": [
    {
     "name": "stdout",
     "output_type": "stream",
     "text": [
      "120 18\n"
     ]
    }
   ],
   "source": [
    "print(len(Name),len(Price))"
   ]
  },
  {
   "cell_type": "code",
   "execution_count": 39,
   "id": "9905bde9",
   "metadata": {},
   "outputs": [],
   "source": [
    "Best_Seller = pd.DataFrame({'Name':Name[0:18], 'Price':Price[0:18]})"
   ]
  },
  {
   "cell_type": "code",
   "execution_count": 40,
   "id": "213d5518",
   "metadata": {},
   "outputs": [],
   "source": [
    "Best_Seller.to_csv('Best_Seller.csv')"
   ]
  },
  {
   "cell_type": "code",
   "execution_count": 41,
   "id": "8a191b36",
   "metadata": {},
   "outputs": [
    {
     "data": {
      "text/html": [
       "<div>\n",
       "<style scoped>\n",
       "    .dataframe tbody tr th:only-of-type {\n",
       "        vertical-align: middle;\n",
       "    }\n",
       "\n",
       "    .dataframe tbody tr th {\n",
       "        vertical-align: top;\n",
       "    }\n",
       "\n",
       "    .dataframe thead th {\n",
       "        text-align: right;\n",
       "    }\n",
       "</style>\n",
       "<table border=\"1\" class=\"dataframe\">\n",
       "  <thead>\n",
       "    <tr style=\"text-align: right;\">\n",
       "      <th></th>\n",
       "      <th>Unnamed: 0</th>\n",
       "      <th>Name</th>\n",
       "      <th>Price</th>\n",
       "    </tr>\n",
       "  </thead>\n",
       "  <tbody>\n",
       "    <tr>\n",
       "      <th>0</th>\n",
       "      <td>0</td>\n",
       "      <td>NaN</td>\n",
       "      <td>NaN</td>\n",
       "    </tr>\n",
       "    <tr>\n",
       "      <th>1</th>\n",
       "      <td>1</td>\n",
       "      <td>NaN</td>\n",
       "      <td>NaN</td>\n",
       "    </tr>\n",
       "    <tr>\n",
       "      <th>2</th>\n",
       "      <td>2</td>\n",
       "      <td>NaN</td>\n",
       "      <td>NaN</td>\n",
       "    </tr>\n",
       "    <tr>\n",
       "      <th>3</th>\n",
       "      <td>3</td>\n",
       "      <td>NaN</td>\n",
       "      <td>NaN</td>\n",
       "    </tr>\n",
       "    <tr>\n",
       "      <th>4</th>\n",
       "      <td>4</td>\n",
       "      <td>NaN</td>\n",
       "      <td>8,099</td>\n",
       "    </tr>\n",
       "    <tr>\n",
       "      <th>5</th>\n",
       "      <td>5</td>\n",
       "      <td>NaN</td>\n",
       "      <td>7,999</td>\n",
       "    </tr>\n",
       "    <tr>\n",
       "      <th>6</th>\n",
       "      <td>6</td>\n",
       "      <td>NaN</td>\n",
       "      <td>4,949</td>\n",
       "    </tr>\n",
       "    <tr>\n",
       "      <th>7</th>\n",
       "      <td>7</td>\n",
       "      <td>NaN</td>\n",
       "      <td>NaN</td>\n",
       "    </tr>\n",
       "    <tr>\n",
       "      <th>8</th>\n",
       "      <td>8</td>\n",
       "      <td>NaN</td>\n",
       "      <td>NaN</td>\n",
       "    </tr>\n",
       "    <tr>\n",
       "      <th>9</th>\n",
       "      <td>9</td>\n",
       "      <td>NaN</td>\n",
       "      <td>NaN</td>\n",
       "    </tr>\n",
       "    <tr>\n",
       "      <th>10</th>\n",
       "      <td>10</td>\n",
       "      <td>NaN</td>\n",
       "      <td>NaN</td>\n",
       "    </tr>\n",
       "    <tr>\n",
       "      <th>11</th>\n",
       "      <td>11</td>\n",
       "      <td>NaN</td>\n",
       "      <td>NaN</td>\n",
       "    </tr>\n",
       "    <tr>\n",
       "      <th>12</th>\n",
       "      <td>12</td>\n",
       "      <td>NaN</td>\n",
       "      <td>NaN</td>\n",
       "    </tr>\n",
       "    <tr>\n",
       "      <th>13</th>\n",
       "      <td>13</td>\n",
       "      <td>NaN</td>\n",
       "      <td>NaN</td>\n",
       "    </tr>\n",
       "    <tr>\n",
       "      <th>14</th>\n",
       "      <td>14</td>\n",
       "      <td>NaN</td>\n",
       "      <td>NaN</td>\n",
       "    </tr>\n",
       "    <tr>\n",
       "      <th>15</th>\n",
       "      <td>15</td>\n",
       "      <td>NaN</td>\n",
       "      <td>NaN</td>\n",
       "    </tr>\n",
       "    <tr>\n",
       "      <th>16</th>\n",
       "      <td>16</td>\n",
       "      <td>NaN</td>\n",
       "      <td>NaN</td>\n",
       "    </tr>\n",
       "    <tr>\n",
       "      <th>17</th>\n",
       "      <td>17</td>\n",
       "      <td>NaN</td>\n",
       "      <td>NaN</td>\n",
       "    </tr>\n",
       "  </tbody>\n",
       "</table>\n",
       "</div>"
      ],
      "text/plain": [
       "    Unnamed: 0  Name  Price\n",
       "0            0   NaN    NaN\n",
       "1            1   NaN    NaN\n",
       "2            2   NaN    NaN\n",
       "3            3   NaN    NaN\n",
       "4            4   NaN  8,099\n",
       "5            5   NaN  7,999\n",
       "6            6   NaN  4,949\n",
       "7            7   NaN    NaN\n",
       "8            8   NaN    NaN\n",
       "9            9   NaN    NaN\n",
       "10          10   NaN    NaN\n",
       "11          11   NaN    NaN\n",
       "12          12   NaN    NaN\n",
       "13          13   NaN    NaN\n",
       "14          14   NaN    NaN\n",
       "15          15   NaN    NaN\n",
       "16          16   NaN    NaN\n",
       "17          17   NaN    NaN"
      ]
     },
     "execution_count": 41,
     "metadata": {},
     "output_type": "execute_result"
    }
   ],
   "source": [
    "Data = pd.read_csv('Best_Seller.csv')\n",
    "Data"
   ]
  },
  {
   "cell_type": "code",
   "execution_count": 42,
   "id": "75121556",
   "metadata": {},
   "outputs": [],
   "source": [
    "driver.close()"
   ]
  },
  {
   "cell_type": "code",
   "execution_count": 43,
   "id": "be8d407a",
   "metadata": {},
   "outputs": [],
   "source": [
    "# 6. https://www.woodlandworldwide.com/"
   ]
  },
  {
   "cell_type": "code",
   "execution_count": 44,
   "id": "fadcc1d3",
   "metadata": {},
   "outputs": [],
   "source": [
    "import selenium\n",
    "from selenium import webdriver\n",
    "import pandas as pd\n",
    "from selenium.webdriver.common.by import By\n",
    "from selenium.common.exceptions import NoSuchElementException,StaleElementReferenceException\n",
    "import time"
   ]
  },
  {
   "cell_type": "code",
   "execution_count": 45,
   "id": "bd5c959d",
   "metadata": {},
   "outputs": [],
   "source": [
    "import warnings\n",
    "warnings.filterwarnings('ignore')"
   ]
  },
  {
   "cell_type": "code",
   "execution_count": 46,
   "id": "5f58e7b2",
   "metadata": {},
   "outputs": [],
   "source": [
    "driver = webdriver.Chrome()"
   ]
  },
  {
   "cell_type": "code",
   "execution_count": 47,
   "id": "a1c732e7",
   "metadata": {},
   "outputs": [],
   "source": [
    "driver.get('https://www.woodlandworldwide.com/')"
   ]
  },
  {
   "cell_type": "code",
   "execution_count": 48,
   "id": "f0e1696d",
   "metadata": {},
   "outputs": [],
   "source": [
    "Boots = driver.find_element(By.XPATH,'/html/body/div[1]/div[2]/section[2]/div/div/div[3]/div/div[2]/button')\n",
    "Boots.click()"
   ]
  },
  {
   "cell_type": "code",
   "execution_count": 49,
   "id": "9711e25b",
   "metadata": {},
   "outputs": [],
   "source": [
    "Name = []\n",
    "Price = []\n",
    "\n",
    "for i in driver.find_elements(By.XPATH,\"//p[@class='productcardplp_productname__F8lks']\"):\n",
    "    Name.append(i.text)\n",
    "    \n",
    "for i in driver.find_elements(By.XPATH,\"//p[@class='productcardplp_productprice__jdlz6']\"):\n",
    "    Price.append(i.text)\n",
    "    "
   ]
  },
  {
   "cell_type": "code",
   "execution_count": 50,
   "id": "be686a2d",
   "metadata": {},
   "outputs": [
    {
     "name": "stdout",
     "output_type": "stream",
     "text": [
      "104 104\n"
     ]
    }
   ],
   "source": [
    "print(len(Name),len(Price))"
   ]
  },
  {
   "cell_type": "code",
   "execution_count": 51,
   "id": "83a715d9",
   "metadata": {},
   "outputs": [],
   "source": [
    "Boots = pd.DataFrame({'Brand Name':Name[0:104], 'Price':Price[0:104]})"
   ]
  },
  {
   "cell_type": "code",
   "execution_count": 52,
   "id": "7855f301",
   "metadata": {},
   "outputs": [],
   "source": [
    "Boots.to_csv('Boots.csv')"
   ]
  },
  {
   "cell_type": "code",
   "execution_count": 53,
   "id": "065778e5",
   "metadata": {},
   "outputs": [
    {
     "data": {
      "text/html": [
       "<div>\n",
       "<style scoped>\n",
       "    .dataframe tbody tr th:only-of-type {\n",
       "        vertical-align: middle;\n",
       "    }\n",
       "\n",
       "    .dataframe tbody tr th {\n",
       "        vertical-align: top;\n",
       "    }\n",
       "\n",
       "    .dataframe thead th {\n",
       "        text-align: right;\n",
       "    }\n",
       "</style>\n",
       "<table border=\"1\" class=\"dataframe\">\n",
       "  <thead>\n",
       "    <tr style=\"text-align: right;\">\n",
       "      <th></th>\n",
       "      <th>Unnamed: 0</th>\n",
       "      <th>Brand Name</th>\n",
       "      <th>Price</th>\n",
       "    </tr>\n",
       "  </thead>\n",
       "  <tbody>\n",
       "    <tr>\n",
       "      <th>0</th>\n",
       "      <td>0</td>\n",
       "      <td>Woodland Camel Trekking Shoes</td>\n",
       "      <td>₹4595₹2297</td>\n",
       "    </tr>\n",
       "    <tr>\n",
       "      <th>1</th>\n",
       "      <td>1</td>\n",
       "      <td>Khaki hiking boot</td>\n",
       "      <td>₹4495₹2697</td>\n",
       "    </tr>\n",
       "    <tr>\n",
       "      <th>2</th>\n",
       "      <td>2</td>\n",
       "      <td>Navy Boot for Men</td>\n",
       "      <td>₹5995</td>\n",
       "    </tr>\n",
       "    <tr>\n",
       "      <th>3</th>\n",
       "      <td>3</td>\n",
       "      <td>Woodland SNAYPE hiking boots</td>\n",
       "      <td>₹6995₹3000</td>\n",
       "    </tr>\n",
       "    <tr>\n",
       "      <th>4</th>\n",
       "      <td>4</td>\n",
       "      <td>Cashew brown boot for men</td>\n",
       "      <td>₹4495₹3371</td>\n",
       "    </tr>\n",
       "    <tr>\n",
       "      <th>...</th>\n",
       "      <td>...</td>\n",
       "      <td>...</td>\n",
       "      <td>...</td>\n",
       "    </tr>\n",
       "    <tr>\n",
       "      <th>99</th>\n",
       "      <td>99</td>\n",
       "      <td>Brown hiking shoes for men</td>\n",
       "      <td>₹15995₹9597</td>\n",
       "    </tr>\n",
       "    <tr>\n",
       "      <th>100</th>\n",
       "      <td>100</td>\n",
       "      <td>Cashew brown boot for men</td>\n",
       "      <td>₹4695₹2817</td>\n",
       "    </tr>\n",
       "    <tr>\n",
       "      <th>101</th>\n",
       "      <td>101</td>\n",
       "      <td>Brown boots for men</td>\n",
       "      <td>₹7995₹3000</td>\n",
       "    </tr>\n",
       "    <tr>\n",
       "      <th>102</th>\n",
       "      <td>102</td>\n",
       "      <td>Grey Boots for men</td>\n",
       "      <td>₹14995₹11246</td>\n",
       "    </tr>\n",
       "    <tr>\n",
       "      <th>103</th>\n",
       "      <td>103</td>\n",
       "      <td>Brown boots for men</td>\n",
       "      <td>₹15995₹11996</td>\n",
       "    </tr>\n",
       "  </tbody>\n",
       "</table>\n",
       "<p>104 rows × 3 columns</p>\n",
       "</div>"
      ],
      "text/plain": [
       "     Unnamed: 0                     Brand Name         Price\n",
       "0             0  Woodland Camel Trekking Shoes    ₹4595₹2297\n",
       "1             1              Khaki hiking boot    ₹4495₹2697\n",
       "2             2              Navy Boot for Men         ₹5995\n",
       "3             3   Woodland SNAYPE hiking boots    ₹6995₹3000\n",
       "4             4      Cashew brown boot for men    ₹4495₹3371\n",
       "..          ...                            ...           ...\n",
       "99           99     Brown hiking shoes for men   ₹15995₹9597\n",
       "100         100      Cashew brown boot for men    ₹4695₹2817\n",
       "101         101            Brown boots for men    ₹7995₹3000\n",
       "102         102             Grey Boots for men  ₹14995₹11246\n",
       "103         103            Brown boots for men  ₹15995₹11996\n",
       "\n",
       "[104 rows x 3 columns]"
      ]
     },
     "execution_count": 53,
     "metadata": {},
     "output_type": "execute_result"
    }
   ],
   "source": [
    "Data = pd.read_csv('Boots.csv')\n",
    "Data"
   ]
  },
  {
   "cell_type": "code",
   "execution_count": 54,
   "id": "14ab6659",
   "metadata": {},
   "outputs": [],
   "source": [
    "driver.close()"
   ]
  },
  {
   "cell_type": "code",
   "execution_count": null,
   "id": "0410cc04",
   "metadata": {},
   "outputs": [],
   "source": []
  }
 ],
 "metadata": {
  "kernelspec": {
   "display_name": "Python 3 (ipykernel)",
   "language": "python",
   "name": "python3"
  },
  "language_info": {
   "codemirror_mode": {
    "name": "ipython",
    "version": 3
   },
   "file_extension": ".py",
   "mimetype": "text/x-python",
   "name": "python",
   "nbconvert_exporter": "python",
   "pygments_lexer": "ipython3",
   "version": "3.9.16"
  }
 },
 "nbformat": 4,
 "nbformat_minor": 5
}
