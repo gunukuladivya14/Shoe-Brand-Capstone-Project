{
 "cells": [
  {
   "cell_type": "code",
   "execution_count": 1,
   "id": "522209b9",
   "metadata": {},
   "outputs": [],
   "source": [
    "import sqlite3"
   ]
  },
  {
   "cell_type": "code",
   "execution_count": 2,
   "id": "709a8b3c",
   "metadata": {},
   "outputs": [],
   "source": [
    "import pandas as pd"
   ]
  },
  {
   "cell_type": "code",
   "execution_count": 3,
   "id": "681d6a98",
   "metadata": {},
   "outputs": [],
   "source": [
    "db = sqlite3.connect(\"shoes_database.db\")"
   ]
  },
  {
   "cell_type": "code",
   "execution_count": 4,
   "id": "41915329",
   "metadata": {},
   "outputs": [],
   "source": [
    "cursor = db.cursor()"
   ]
  },
  {
   "cell_type": "code",
   "execution_count": 5,
   "id": "f3af01eb",
   "metadata": {},
   "outputs": [
    {
     "data": {
      "text/plain": [
       "<sqlite3.Cursor at 0x2154ee2d960>"
      ]
     },
     "execution_count": 5,
     "metadata": {},
     "output_type": "execute_result"
    }
   ],
   "source": [
    "cursor.execute('create table Table1(ShoeName text, Category text, no_of_colors int, price int)')"
   ]
  },
  {
   "cell_type": "code",
   "execution_count": 6,
   "id": "2ece46d6",
   "metadata": {},
   "outputs": [
    {
     "data": {
      "text/plain": [
       "<sqlite3.Cursor at 0x2154ee2d960>"
      ]
     },
     "execution_count": 6,
     "metadata": {},
     "output_type": "execute_result"
    }
   ],
   "source": [
    "cursor.execute(\"insert into Table1(ShoeName, Category, no_of_colors, price) values('Nike Air force1 07', 'Women', 2, 7455)\")"
   ]
  },
  {
   "cell_type": "code",
   "execution_count": 7,
   "id": "f8eeeee6",
   "metadata": {},
   "outputs": [
    {
     "name": "stdout",
     "output_type": "stream",
     "text": [
      "6 Records inserted\n"
     ]
    }
   ],
   "source": [
    "with open('Table1.csv','r') as file:\n",
    "    total_records = 0\n",
    "    for row in file:\n",
    "        cursor.execute(\"insert into Table1 values(?,?,?,?)\", row.split(\",\"))\n",
    "        db.commit()\n",
    "        total_records +=1\n",
    "print(total_records, 'Records inserted')"
   ]
  },
  {
   "cell_type": "code",
   "execution_count": 8,
   "id": "0806f383",
   "metadata": {},
   "outputs": [
    {
     "data": {
      "text/plain": [
       "[('Nike Air force1 07', 'Women', 2, 7455),\n",
       " ('Nike Air force1 Wild ', 'Women', 5, 12795),\n",
       " (\"Nike Air force1'07\", 'Men', 2, 7495),\n",
       " (\"Nike Air force1'07\", 'Women', 1, 10795),\n",
       " (\"Nike Air force1'07 LV8\", 'Men', 2, 10795),\n",
       " ('Nike Air force 1 Shadow', 'Women', 2, 11895),\n",
       " (\"Nike Air force1'07 LX\", 'Men', 1, 11895)]"
      ]
     },
     "execution_count": 8,
     "metadata": {},
     "output_type": "execute_result"
    }
   ],
   "source": [
    "results = cursor.execute(\"Select * from Table1\")\n",
    "\n",
    "results.fetchall()"
   ]
  },
  {
   "cell_type": "code",
   "execution_count": 9,
   "id": "defedabf",
   "metadata": {},
   "outputs": [],
   "source": [
    "# 1 Write a query  to retrieve all shoe names and their corresponding prices for men's shoes:"
   ]
  },
  {
   "cell_type": "code",
   "execution_count": 10,
   "id": "fdc65b7c",
   "metadata": {},
   "outputs": [
    {
     "data": {
      "text/plain": [
       "[(\"Nike Air force1'07\", 7495),\n",
       " (\"Nike Air force1'07 LV8\", 10795),\n",
       " (\"Nike Air force1'07 LX\", 11895)]"
      ]
     },
     "execution_count": 10,
     "metadata": {},
     "output_type": "execute_result"
    }
   ],
   "source": [
    "results = cursor.execute(\"Select ShoeName, price from Table1 Where Category = 'Men'\")\n",
    "results.fetchall()"
   ]
  },
  {
   "cell_type": "code",
   "execution_count": 11,
   "id": "2bfe161e",
   "metadata": {},
   "outputs": [],
   "source": [
    "# 2 Write a query to retrieve the number of different colors available for each category.\n"
   ]
  },
  {
   "cell_type": "code",
   "execution_count": 12,
   "id": "42bcbf30",
   "metadata": {},
   "outputs": [
    {
     "data": {
      "text/plain": [
       "[('Men', 2), ('Women', 3)]"
      ]
     },
     "execution_count": 12,
     "metadata": {},
     "output_type": "execute_result"
    }
   ],
   "source": [
    "results = cursor.execute(\"Select Category, Count(DISTINCT no_of_colors) as num_colors from Table1 group by Category;\")\n",
    "results.fetchall()"
   ]
  },
  {
   "cell_type": "code",
   "execution_count": 13,
   "id": "513ffaa9",
   "metadata": {},
   "outputs": [],
   "source": [
    "# 3 Write a query to find the most expensive men's shoe."
   ]
  },
  {
   "cell_type": "code",
   "execution_count": 14,
   "id": "e636d7ee",
   "metadata": {},
   "outputs": [
    {
     "data": {
      "text/plain": [
       "[(\"Nike Air force1'07 LX\", 11895)]"
      ]
     },
     "execution_count": 14,
     "metadata": {},
     "output_type": "execute_result"
    }
   ],
   "source": [
    "results = cursor.execute(\"Select ShoeName, price from Table1 where Category = 'Men' order by price desc limit 1\")\n",
    "results.fetchall()"
   ]
  },
  {
   "cell_type": "code",
   "execution_count": 15,
   "id": "645927e5",
   "metadata": {},
   "outputs": [],
   "source": [
    "# 4 Write a query to find the cheapest women's shoe in a specific color (e.g., 'Black ')."
   ]
  },
  {
   "cell_type": "code",
   "execution_count": 16,
   "id": "b272bab3",
   "metadata": {},
   "outputs": [
    {
     "data": {
      "text/plain": [
       "[]"
      ]
     },
     "execution_count": 16,
     "metadata": {},
     "output_type": "execute_result"
    }
   ],
   "source": [
    "results = cursor.execute(\"select ShoeName, price from Table1 where Category = 'Women' AND no_of_colors = 'Black' order by price limit 1\")\n",
    "results.fetchall()"
   ]
  },
  {
   "cell_type": "code",
   "execution_count": 17,
   "id": "194a12f8",
   "metadata": {},
   "outputs": [],
   "source": [
    "# 5 Write a query to retrieve all shoe names and their corresponding prices for men's shoes."
   ]
  },
  {
   "cell_type": "code",
   "execution_count": 18,
   "id": "e349afd2",
   "metadata": {},
   "outputs": [
    {
     "data": {
      "text/plain": [
       "[(\"Nike Air force1'07\", 7495),\n",
       " (\"Nike Air force1'07 LV8\", 10795),\n",
       " (\"Nike Air force1'07 LX\", 11895)]"
      ]
     },
     "execution_count": 18,
     "metadata": {},
     "output_type": "execute_result"
    }
   ],
   "source": [
    "results = cursor.execute(\"Select ShoeName, price from Table1 where Category = 'Men';\")\n",
    "results.fetchall()\n",
    "\n"
   ]
  },
  {
   "cell_type": "code",
   "execution_count": null,
   "id": "9751f3a9",
   "metadata": {},
   "outputs": [],
   "source": [
    "#Table 2"
   ]
  },
  {
   "cell_type": "code",
   "execution_count": 19,
   "id": "46129aee",
   "metadata": {},
   "outputs": [
    {
     "data": {
      "text/plain": [
       "<sqlite3.Cursor at 0x2154ee2d960>"
      ]
     },
     "execution_count": 19,
     "metadata": {},
     "output_type": "execute_result"
    }
   ],
   "source": [
    "cursor.execute('create table Table2(count_of_sizes int, color1 text, color2 text,color3 text, color4 text, color5 text, style_code int)')"
   ]
  },
  {
   "cell_type": "code",
   "execution_count": 20,
   "id": "39d6f627",
   "metadata": {},
   "outputs": [
    {
     "data": {
      "text/plain": [
       "<sqlite3.Cursor at 0x2154ee2d960>"
      ]
     },
     "execution_count": 20,
     "metadata": {},
     "output_type": "execute_result"
    }
   ],
   "source": [
    "cursor.execute(\"insert into Table2(count_of_sizes, color1, color2,color3, color4, color5, style_code) values(7,'Blue','Grey','White','Black','peach',009)\")"
   ]
  },
  {
   "cell_type": "code",
   "execution_count": 21,
   "id": "9cfbb867",
   "metadata": {},
   "outputs": [
    {
     "name": "stdout",
     "output_type": "stream",
     "text": [
      "6 Records inserted\n"
     ]
    }
   ],
   "source": [
    "with open('Table2.csv','r') as file:\n",
    "    total_records = 0\n",
    "    for row in file:\n",
    "        cursor.execute(\"insert into Table2 values(?,?,?,?,?,?,?)\", row.split(\",\"))\n",
    "        db.commit()\n",
    "        total_records +=1\n",
    "print(total_records, 'Records inserted')"
   ]
  },
  {
   "cell_type": "code",
   "execution_count": 22,
   "id": "39ce9a84",
   "metadata": {},
   "outputs": [
    {
     "data": {
      "text/plain": [
       "[(7, 'Blue', 'Grey', 'White', 'Black', 'peach', 9),\n",
       " (6, ' Red', ' white', ' black', ' Grey', ' Pink', 1),\n",
       " (5, ' White', ' Black', ' Pink', ' Blue', ' Grey', 2),\n",
       " (6, ' White', ' black', ' blue', ' red', ' Grey', 52),\n",
       " (4, ' White', ' black', ' blue', ' red', ' Grey', 4),\n",
       " (5, ' White', ' black', ' blue', ' red', ' Grey', 5),\n",
       " (3, ' White', ' black', ' blue', ' red', ' Grey', 6)]"
      ]
     },
     "execution_count": 22,
     "metadata": {},
     "output_type": "execute_result"
    }
   ],
   "source": [
    "results = cursor.execute(\"Select * from Table2\")\n",
    "\n",
    "results.fetchall()"
   ]
  },
  {
   "cell_type": "code",
   "execution_count": 23,
   "id": "ede1d861",
   "metadata": {},
   "outputs": [],
   "source": [
    "# 1 Write a query that retrieves the count of sizes for all styles."
   ]
  },
  {
   "cell_type": "code",
   "execution_count": 24,
   "id": "565df2a4",
   "metadata": {},
   "outputs": [
    {
     "data": {
      "text/plain": [
       "[(9, 7), (1, 6), (2, 5), (52, 6), (4, 4), (5, 5), (6, 3)]"
      ]
     },
     "execution_count": 24,
     "metadata": {},
     "output_type": "execute_result"
    }
   ],
   "source": [
    "results = cursor.execute(\"select style_code, count_of_sizes from Table2\")\n",
    "\n",
    "results.fetchall()\n"
   ]
  },
  {
   "cell_type": "code",
   "execution_count": 25,
   "id": "6e188517",
   "metadata": {},
   "outputs": [],
   "source": [
    "# 2  Write a query to list all styles with their associated colors."
   ]
  },
  {
   "cell_type": "code",
   "execution_count": 27,
   "id": "311fa449",
   "metadata": {},
   "outputs": [
    {
     "data": {
      "text/plain": [
       "[(9, 'Blue', 'Grey', 'White', 'Black', 'peach'),\n",
       " (1, ' Red', ' white', ' black', ' Grey', ' Pink'),\n",
       " (2, ' White', ' Black', ' Pink', ' Blue', ' Grey'),\n",
       " (52, ' White', ' black', ' blue', ' red', ' Grey'),\n",
       " (4, ' White', ' black', ' blue', ' red', ' Grey'),\n",
       " (5, ' White', ' black', ' blue', ' red', ' Grey'),\n",
       " (6, ' White', ' black', ' blue', ' red', ' Grey')]"
      ]
     },
     "execution_count": 27,
     "metadata": {},
     "output_type": "execute_result"
    }
   ],
   "source": [
    "results = cursor.execute(\"select style_code, color1, color2, color3, color4, color5 from Table2\")\n",
    "\n",
    "results.fetchall()\n"
   ]
  },
  {
   "cell_type": "code",
   "execution_count": 28,
   "id": "b4cea289",
   "metadata": {},
   "outputs": [],
   "source": [
    "# 3 Write a to find styles that have more than one color."
   ]
  },
  {
   "cell_type": "code",
   "execution_count": 34,
   "id": "e615e32a",
   "metadata": {},
   "outputs": [
    {
     "data": {
      "text/plain": [
       "[(9,), (1,), (2,), (52,), (4,), (5,), (6,)]"
      ]
     },
     "execution_count": 34,
     "metadata": {},
     "output_type": "execute_result"
    }
   ],
   "source": [
    "results = cursor.execute(\"select style_code from Table2 where color3 IS NOT NULL\")\n",
    "\n",
    "results.fetchall()\n"
   ]
  },
  {
   "cell_type": "code",
   "execution_count": 30,
   "id": "162e9c4e",
   "metadata": {},
   "outputs": [],
   "source": [
    "# 4  Write a query to find the count of sizes available for each color for a specific style code.\n"
   ]
  },
  {
   "cell_type": "code",
   "execution_count": 31,
   "id": "1870375f",
   "metadata": {},
   "outputs": [
    {
     "data": {
      "text/plain": [
       "[(1, ' Red', 1),\n",
       " (2, ' White', 1),\n",
       " (4, ' White', 1),\n",
       " (5, ' White', 1),\n",
       " (6, ' White', 1),\n",
       " (9, 'Blue', 1),\n",
       " (52, ' White', 1)]"
      ]
     },
     "execution_count": 31,
     "metadata": {},
     "output_type": "execute_result"
    }
   ],
   "source": [
    "results = cursor.execute(\"select style_code, color1, count(distinct count_of_sizes) as size_count from Table2 group by style_code, color1\")\n",
    "\n",
    "results.fetchall()"
   ]
  },
  {
   "cell_type": "code",
   "execution_count": 32,
   "id": "6d3023e6",
   "metadata": {},
   "outputs": [],
   "source": [
    "# 5  Write a query to find styles that have a specific color."
   ]
  },
  {
   "cell_type": "code",
   "execution_count": 33,
   "id": "015093a2",
   "metadata": {},
   "outputs": [
    {
     "data": {
      "text/plain": [
       "[(9,)]"
      ]
     },
     "execution_count": 33,
     "metadata": {},
     "output_type": "execute_result"
    }
   ],
   "source": [
    "results = cursor.execute(\"select style_code from Table2 where color1 = 'Blue'\")\n",
    "\n",
    "results.fetchall()"
   ]
  },
  {
   "cell_type": "code",
   "execution_count": 35,
   "id": "9e83be8e",
   "metadata": {},
   "outputs": [],
   "source": [
    "# Table 3"
   ]
  },
  {
   "cell_type": "code",
   "execution_count": 36,
   "id": "560395ce",
   "metadata": {},
   "outputs": [
    {
     "data": {
      "text/plain": [
       "<sqlite3.Cursor at 0x2154ee2d960>"
      ]
     },
     "execution_count": 36,
     "metadata": {},
     "output_type": "execute_result"
    }
   ],
   "source": [
    "cursor.execute('create table Table3(reviews int, Size int, comfort int, quantification int, star_rating int)')"
   ]
  },
  {
   "cell_type": "code",
   "execution_count": 37,
   "id": "a542866b",
   "metadata": {},
   "outputs": [
    {
     "data": {
      "text/plain": [
       "<sqlite3.Cursor at 0x2154ee2d960>"
      ]
     },
     "execution_count": 37,
     "metadata": {},
     "output_type": "execute_result"
    }
   ],
   "source": [
    "cursor.execute('insert into Table3(reviews, Size, comfort, quantification, star_rating) values(8521, 8, 4, 5, 4)')"
   ]
  },
  {
   "cell_type": "code",
   "execution_count": 38,
   "id": "2c61656d",
   "metadata": {},
   "outputs": [
    {
     "name": "stdout",
     "output_type": "stream",
     "text": [
      "6 Records inserted\n"
     ]
    }
   ],
   "source": [
    "with open('Table3.csv','r') as file:\n",
    "    total_records = 0\n",
    "    for row in file:\n",
    "        cursor.execute(\"insert into Table3 values(?,?,?,?,?)\", row.split(\",\"))\n",
    "        db.commit()\n",
    "        total_records +=1\n",
    "print(total_records, 'Records inserted')"
   ]
  },
  {
   "cell_type": "code",
   "execution_count": 39,
   "id": "396e7459",
   "metadata": {},
   "outputs": [
    {
     "data": {
      "text/plain": [
       "[(8521, 8, 4, 5, 4),\n",
       " (8556, 6, 5, 5, 5),\n",
       " (85213, 9, 5, 5, 4),\n",
       " (92432, 8, 4, 5, 4),\n",
       " (2432, 8, 4, 5, 4),\n",
       " (33352, 8, 4, 5, 4),\n",
       " (28432, 8, 4, 5, 4)]"
      ]
     },
     "execution_count": 39,
     "metadata": {},
     "output_type": "execute_result"
    }
   ],
   "source": [
    "results = cursor.execute(\"Select * from Table3\")\n",
    "\n",
    "results.fetchall()"
   ]
  },
  {
   "cell_type": "code",
   "execution_count": 40,
   "id": "a58a0a99",
   "metadata": {},
   "outputs": [],
   "source": [
    "# 1 Write a query calculates the average comfort rating for a specific product based on its reviews."
   ]
  },
  {
   "cell_type": "code",
   "execution_count": 45,
   "id": "a419cf39",
   "metadata": {},
   "outputs": [
    {
     "data": {
      "text/plain": [
       "[(4.285714285714286,)]"
      ]
     },
     "execution_count": 45,
     "metadata": {},
     "output_type": "execute_result"
    }
   ],
   "source": [
    "results = cursor.execute(\"select avg(comfort) as avg_comfort from Table3 order by reviews\")\n",
    "\n",
    "results.fetchall()"
   ]
  },
  {
   "cell_type": "code",
   "execution_count": 44,
   "id": "7347620b",
   "metadata": {},
   "outputs": [],
   "source": [
    "# 2  Write a query to retrieve products with high star ratings (e.g., 4 stars or above)"
   ]
  },
  {
   "cell_type": "code",
   "execution_count": 46,
   "id": "42740c2e",
   "metadata": {},
   "outputs": [
    {
     "data": {
      "text/plain": [
       "[(8521, 8, 4, 5, 4),\n",
       " (8556, 6, 5, 5, 5),\n",
       " (85213, 9, 5, 5, 4),\n",
       " (92432, 8, 4, 5, 4),\n",
       " (2432, 8, 4, 5, 4),\n",
       " (33352, 8, 4, 5, 4),\n",
       " (28432, 8, 4, 5, 4)]"
      ]
     },
     "execution_count": 46,
     "metadata": {},
     "output_type": "execute_result"
    }
   ],
   "source": [
    "results = cursor.execute(\"select * from Table3 where star_rating >= 4\")\n",
    "\n",
    "results.fetchall()"
   ]
  },
  {
   "cell_type": "code",
   "execution_count": 47,
   "id": "39e5567e",
   "metadata": {},
   "outputs": [],
   "source": [
    "# 3 Write a query that counts the number of reviews for each product."
   ]
  },
  {
   "cell_type": "code",
   "execution_count": 50,
   "id": "4e5f756e",
   "metadata": {},
   "outputs": [
    {
     "data": {
      "text/plain": [
       "[(6,), (1,)]"
      ]
     },
     "execution_count": 50,
     "metadata": {},
     "output_type": "execute_result"
    }
   ],
   "source": [
    "results = cursor.execute(\"select count(reviews) as review_count from Table3 group by star_rating\")\n",
    "\n",
    "results.fetchall()"
   ]
  },
  {
   "cell_type": "code",
   "execution_count": 51,
   "id": "09c5ae6a",
   "metadata": {},
   "outputs": [],
   "source": [
    "# 4  Write a To retrieve products that have a quantified durability/quality/performance rating above a certain threshold (e.g., above 7)."
   ]
  },
  {
   "cell_type": "code",
   "execution_count": 52,
   "id": "9c0b97b8",
   "metadata": {},
   "outputs": [
    {
     "data": {
      "text/plain": [
       "[]"
      ]
     },
     "execution_count": 52,
     "metadata": {},
     "output_type": "execute_result"
    }
   ],
   "source": [
    "results = cursor.execute(\"select * from Table3 where quantification > 7\")\n",
    "\n",
    "results.fetchall()"
   ]
  },
  {
   "cell_type": "code",
   "execution_count": 53,
   "id": "94710591",
   "metadata": {},
   "outputs": [],
   "source": [
    "# 5 Write a query that  calculates the average comfort rating for each size."
   ]
  },
  {
   "cell_type": "code",
   "execution_count": 54,
   "id": "58c5da4e",
   "metadata": {},
   "outputs": [
    {
     "data": {
      "text/plain": [
       "[(6, 5.0), (8, 4.0), (9, 5.0)]"
      ]
     },
     "execution_count": 54,
     "metadata": {},
     "output_type": "execute_result"
    }
   ],
   "source": [
    "results = cursor.execute(\"select size, avg(comfort) as avg_comfort from Table3 group by size\")\n",
    "\n",
    "results.fetchall()\n"
   ]
  },
  {
   "cell_type": "code",
   "execution_count": null,
   "id": "84909762",
   "metadata": {},
   "outputs": [],
   "source": []
  },
  {
   "cell_type": "code",
   "execution_count": null,
   "id": "03aa7283",
   "metadata": {},
   "outputs": [],
   "source": []
  }
 ],
 "metadata": {
  "kernelspec": {
   "display_name": "Python 3 (ipykernel)",
   "language": "python",
   "name": "python3"
  },
  "language_info": {
   "codemirror_mode": {
    "name": "ipython",
    "version": 3
   },
   "file_extension": ".py",
   "mimetype": "text/x-python",
   "name": "python",
   "nbconvert_exporter": "python",
   "pygments_lexer": "ipython3",
   "version": "3.9.16"
  }
 },
 "nbformat": 4,
 "nbformat_minor": 5
}
